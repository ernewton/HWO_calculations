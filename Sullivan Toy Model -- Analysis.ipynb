{
 "cells": [
  {
   "cell_type": "markdown",
   "id": "c0dd42ce",
   "metadata": {},
   "source": [
    "# Binary Planet Suppression: Toy Model"
   ]
  },
  {
   "cell_type": "code",
   "execution_count": null,
   "id": "4ca93d64",
   "metadata": {},
   "outputs": [],
   "source": [
    "from astropy.table import Table\n",
    "import matplotlib.pyplot as plt\n",
    "import numpy as np\n",
    "import matplotlib as mpl\n",
    "\n",
    "mpl.rc('lines',linewidth = 1.5)\n",
    "mpl.rc('font',size = 12)\n",
    "mpl.rc('axes',labelsize = 14, linewidth=1.25)\n",
    "mpl.rc('xtick',labelsize = 14)\n",
    "mpl.rc('ytick',labelsize = 14)\n",
    "# enable math fonts\n",
    "mpl.rc('mathtext', default = 'regular')\n",
    "\n",
    "import pickle\n",
    "\n",
    "import pandas as pd"
   ]
  },
  {
   "cell_type": "markdown",
   "id": "69c3058f",
   "metadata": {},
   "source": [
    "### Data from Sullivan, Gaia/Bedell, KOIs, KIC"
   ]
  },
  {
   "cell_type": "code",
   "execution_count": null,
   "id": "bd742f5f",
   "metadata": {},
   "outputs": [],
   "source": [
    "# read in Kendall's catalog, xmatched to all the stuff from Kepler that I need\n",
    "with open('kendall+kepler.pkl', 'rb') as file:\n",
    "       db = pickle.load(file)\n",
    "\n",
    "# read in my kois table\n",
    "with open('kic.pkl', 'rb') as file:\n",
    "        kic = pd.read_pickle('kic.pkl')\n",
    "\n",
    "# remove the studied binaries from the all_KOI catalog\n",
    "# also remove false positives\n",
    "# and non-positive parallaxes\n",
    "kois_less = kois[ (~kois['kepoi_name'].isin(db['kepoi_name'])) & \n",
    "                 (kois['koi_disposition']!='FALSE POSITIVE') & \n",
    "                 (kois['parallax']>0)]"
   ]
  },
  {
   "cell_type": "markdown",
   "id": "0243c32c",
   "metadata": {},
   "source": [
    "# Toy Model\n",
    "\n",
    "next up I take the kois_less (kois with good params minus any that are binaries in kendall's list) and pretend every single star is actually a binary star with a separation drawn randomly from Kendall's sample's distribution of separations. Suppress the formation of > 2 Rearth planets using the suppression model and remake the histogram. Does it work?"
   ]
  },
  {
   "cell_type": "code",
   "execution_count": null,
   "id": "edb604ff",
   "metadata": {},
   "outputs": [],
   "source": [
    "def suppression_factor(a_values):\n",
    "    a_inner_true = 10  # AU (suppression 100%)\n",
    "    a_outer_true = 200  # AU (suppression 0%)\n",
    "    results = (np.log10(a_values) - np.log10(a_inner_true)) / (np.log10(a_outer_true) - np.log10(a_inner_true))\n",
    "    print(results)\n",
    "    return np.clip(results, a_min=0, a_max=1)"
   ]
  },
  {
   "cell_type": "code",
   "execution_count": null,
   "id": "1e14e76f",
   "metadata": {},
   "outputs": [],
   "source": [
    "# Number of stars in single KOIs catalog\n",
    "n_stars = len(kois_less)\n",
    "\n",
    "# Randomly draw separations from db[close] for each star\n",
    "random_separations = np.random.choice(db[close]['SepAU'], size=n_stars, replace=True)\n",
    "\n",
    "#plt.hist(random_separations, density=True)\n",
    "#plt.hist(db['SepAU'], density=True)\n",
    "\n",
    "# Suppress planet formation\n",
    "my_factor = suppression_factor(random_separations)\n",
    "planet_exists = np.zeros(n_stars, dtype=bool) \n",
    "\n",
    "# Condition 1: If Rp < 1.8, planet formation is not suppressed\n",
    "planet_exists[kois_less['koi_prad'] < 1.8] = True\n",
    "\n",
    "# Condition 2: If Rp >= 1.8, planet formation probabilistically suppressed\n",
    "mask = (kois_less['koi_prad'] >= 1.8)\n",
    "\n",
    "random_vals = np.random.rand(n_stars)  # uniform random [0,1) to compare to my_factor\n",
    "planet_exists[mask] = random_vals[mask] < my_factor[mask]\n",
    "\n",
    "realization = kois_less.loc[planet_exists == 1, 'koi_prad'].to_numpy()"
   ]
  },
  {
   "cell_type": "code",
   "execution_count": null,
   "id": "7c1f51bd",
   "metadata": {},
   "outputs": [],
   "source": [
    "plt.hist(random_separations[mask])\n",
    "plt.hist(random_separations[mask][planet_exists[mask]])"
   ]
  },
  {
   "cell_type": "code",
   "execution_count": null,
   "id": "8e29cab8",
   "metadata": {},
   "outputs": [],
   "source": [
    "fig, axes = plt.subplots(2, 1, figsize=(6,5), sharex=True, sharey=True)\n",
    "\n",
    "\n",
    "# planets with good radii in binary systems with rho<100 au and planet period < 100 days\n",
    "axes[0].hist(db['Rppri'][good & close], range=[0.2,4], bins=20, \n",
    "         density=True, histtype='step',\n",
    "        label='Close binaries')\n",
    "\n",
    "# compared to the kois that are at least not definite binaries with good radii and per<100 days\n",
    "axes[0].hist(kois_less['koi_prad'][kgood], range=[0.2,4], bins=20, \n",
    "         density=True, histtype='step',\n",
    "        label='Single stars')\n",
    "\n",
    "axes[0].set_ylabel('Density')\n",
    "axes[0].legend()\n",
    "\n",
    "\n",
    "# planets with good radii in binary systems with rho<100 au and planet period < 100 days\n",
    "axes[1].hist(db['Rppri'][good & close], range=[0.2,4], bins=20, \n",
    "         density=True, histtype='step',\n",
    "        label='Close binaries')\n",
    "\n",
    "# compared to the kois that exist in simulation still\n",
    "axes[1].hist(kois_less['koi_prad'][kgood & planet_exists], range=[0.2,4], bins=20, \n",
    "         density=True, histtype='step',\n",
    "        label='Suppressed')\n",
    "\n",
    "plt.legend()\n",
    "plt.xlabel('Rp')\n",
    "plt.ylabel('Density')\n",
    "plt.show()"
   ]
  },
  {
   "cell_type": "code",
   "execution_count": null,
   "id": "afb1f88d",
   "metadata": {},
   "outputs": [],
   "source": [
    "\"KIC\"+kois['kepid'][np.isnan(kois['parallax'])].astype('str')"
   ]
  },
  {
   "cell_type": "code",
   "execution_count": null,
   "id": "6ed480ea",
   "metadata": {},
   "outputs": [],
   "source": [
    "kois.columns"
   ]
  },
  {
   "cell_type": "code",
   "execution_count": null,
   "id": "c3f64a64",
   "metadata": {},
   "outputs": [],
   "source": [
    "# might be duplicates in db do i want that"
   ]
  }
 ],
 "metadata": {
  "kernelspec": {
   "display_name": "Python 3 (ipykernel)",
   "language": "python",
   "name": "python3"
  },
  "language_info": {
   "codemirror_mode": {
    "name": "ipython",
    "version": 3
   },
   "file_extension": ".py",
   "mimetype": "text/x-python",
   "name": "python",
   "nbconvert_exporter": "python",
   "pygments_lexer": "ipython3",
   "version": "3.8.12"
  }
 },
 "nbformat": 4,
 "nbformat_minor": 5
}
