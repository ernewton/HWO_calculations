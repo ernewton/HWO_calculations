{
 "cells": [
  {
   "cell_type": "code",
   "execution_count": 1,
   "id": "4ca93d64",
   "metadata": {},
   "outputs": [],
   "source": [
    "from astropy.table import Table\n",
    "import matplotlib.pyplot as plt\n",
    "import numpy as np\n",
    "import matplotlib as mpl\n",
    "\n",
    "mpl.rc('lines',linewidth = 1.5)\n",
    "mpl.rc('font',size = 12)\n",
    "mpl.rc('axes',labelsize = 14, linewidth=1.25)\n",
    "mpl.rc('xtick',labelsize = 14)\n",
    "mpl.rc('ytick',labelsize = 14)\n",
    "# enable math fonts\n",
    "mpl.rc('mathtext', default = 'regular')\n"
   ]
  },
  {
   "cell_type": "code",
   "execution_count": 2,
   "id": "780ff85e",
   "metadata": {},
   "outputs": [
    {
     "name": "stderr",
     "output_type": "stream",
     "text": [
      "WARNING: UnitsWarning: Unit 'x' not supported by the VOUnit standard.  [astropy.units.format.vounit]\n"
     ]
    }
   ],
   "source": [
    "#https://vizier.cds.unistra.fr/viz-bin/VizieR-3?-source=J/AJ/168/129/table5\n",
    "planets = Table.read('sullivan2024_planets.vot').to_pandas()\n",
    "\n",
    "# https://vizier.cds.unistra.fr/viz-bin/VizieR-3?-source=J/AJ/168/129/sample\n",
    "stars = Table.read('sullivan2024_stars.vot').to_pandas() \n",
    "\n",
    "planets = planets.merge(stars, how='left', on='KOI')\n",
    "planets['KOI'] = planets['KOI'].astype(int)"
   ]
  },
  {
   "cell_type": "code",
   "execution_count": 43,
   "id": "a5aaae68",
   "metadata": {},
   "outputs": [
    {
     "data": {
      "text/plain": [
       "0      K00042.01\n",
       "1      K00112.01\n",
       "2      K00112.02\n",
       "3      K00162.01\n",
       "4      K00163.01\n",
       "         ...    \n",
       "399    K07835.01\n",
       "400    K07842.01\n",
       "401    K07940.01\n",
       "402    K08077.01\n",
       "403    K08253.01\n",
       "Name: kepoi_name, Length: 404, dtype: object"
      ]
     },
     "execution_count": 43,
     "metadata": {},
     "output_type": "execute_result"
    }
   ],
   "source": [
    "planets['kepoi_name'] = (\n",
    "    'K' +\n",
    "    planets['KOIpl'].astype(int).astype(str).str.zfill(5) +\n",
    "    '.' +\n",
    "    (planets['KOIpl'] % 1 * 100).round().astype(int).astype(str).str.zfill(2)\n",
    ")"
   ]
  },
  {
   "cell_type": "code",
   "execution_count": 44,
   "id": "51e58889",
   "metadata": {},
   "outputs": [],
   "source": [
    "kic = Table.read('/Users/enewton/DATA_DIR/kepler_dr3_good.fits').to_pandas()\n",
    "kois = Table.read('/Users/enewton/DATA_DIR/nexscikois_2025.05.12_09.55.50.vot').to_pandas()\n",
    "kois['kepid'] = kois['kepid'].astype('int64')\n",
    "kois['KOI'] = kois['kepoi_name'].str.extract(r'K0*(\\d+)\\.\\d+')[0].astype(int)\n",
    "\n",
    "kic = kois.merge(kic, how='left', on='kepid')\n"
   ]
  },
  {
   "cell_type": "code",
   "execution_count": 57,
   "id": "cbbf3407",
   "metadata": {},
   "outputs": [
    {
     "data": {
      "text/plain": [
       "Index(['kepid', 'kepoi_name', 'kepler_name', 'koi_disposition',\n",
       "       'koi_pdisposition', 'koi_score', 'koi_fpflag_nt', 'koi_fpflag_ss',\n",
       "       'koi_fpflag_co', 'koi_fpflag_ec', 'koi_period', 'koi_period_err1',\n",
       "       'koi_period_err2', 'koi_time0bk', 'koi_time0bk_err1',\n",
       "       'koi_time0bk_err2', 'koi_impact', 'koi_impact_err1', 'koi_impact_err2',\n",
       "       'koi_duration', 'koi_duration_err1', 'koi_duration_err2', 'koi_depth',\n",
       "       'koi_depth_err1', 'koi_depth_err2', 'koi_prad', 'koi_prad_err1',\n",
       "       'koi_prad_err2', 'koi_teq', 'koi_teq_err1', 'koi_teq_err2', 'koi_insol',\n",
       "       'koi_insol_err1', 'koi_insol_err2', 'koi_model_snr', 'koi_tce_plnt_num',\n",
       "       'koi_tce_delivname', 'koi_steff', 'koi_steff_err1', 'koi_steff_err2',\n",
       "       'koi_slogg', 'koi_slogg_err1', 'koi_slogg_err2', 'koi_srad',\n",
       "       'koi_srad_err1', 'koi_srad_err2', 'ra', 'dec', 'koi_kepmag', 'KOI'],\n",
       "      dtype='object')"
      ]
     },
     "execution_count": 57,
     "metadata": {},
     "output_type": "execute_result"
    }
   ],
   "source": [
    "kois.columns"
   ]
  },
  {
   "cell_type": "code",
   "execution_count": 45,
   "id": "bd742f5f",
   "metadata": {},
   "outputs": [],
   "source": [
    "db = planets.merge(kic, how='left', on='kepoi_name')\n"
   ]
  },
  {
   "cell_type": "code",
   "execution_count": 88,
   "id": "641b61d1",
   "metadata": {},
   "outputs": [
    {
     "data": {
      "image/png": "[encoded data removed]",
      "text/plain": [
       "<Figure size 432x144 with 1 Axes>"
      ]
     },
     "metadata": {
      "needs_background": "light"
     },
     "output_type": "display_data"
    }
   ],
   "source": [
    "kois_less = kois[~kois['kepoi_name'].isin(db['kepoi_name'])]\n",
    "\n",
    "kgood = (kois_less['koi_prad_err1']/kois_less['koi_prad'] < 0.05) & \\\n",
    "    (kois_less['koi_prad_err2']/kois_less['koi_prad'] < 0.05) & \\\n",
    "    (kois_less['koi_period'] < 100) \n",
    "plt.figure(figsize=(6,2))\n",
    "plt.hist(kois_less['koi_prad'][kgood], range=[0.2,4], bins=20, histtype='step')\n",
    "plt.show()"
   ]
  },
  {
   "cell_type": "code",
   "execution_count": 72,
   "id": "88c279c0",
   "metadata": {},
   "outputs": [
    {
     "data": {
      "image/png": "[encoded data removed]",
      "text/plain": [
       "<Figure size 432x288 with 1 Axes>"
      ]
     },
     "metadata": {
      "needs_background": "light"
     },
     "output_type": "display_data"
    }
   ],
   "source": [
    "# trying to confirm this is right... \n",
    "# seems good, prob a bit dif b/c using different planet param database\n",
    "\n",
    "db['distance'] = 1000./db['parallax']\n",
    "db['SepAU'] = db['distance']*db['Sep']\n",
    "\n",
    "good = (db['e_Rpkep']/db['Rpkep'] < 0.15) & (db['koi_period']<100)\n",
    "close = db['SepAU']<100\n",
    "\n",
    "plt.scatter(db['SepAU'][good], db['Rpkep'][good])\n",
    "plt.scatter(db['SepAU'][good & close], db['Rpkep'][good & close])\n",
    "plt.ylim(0.4,4.1)\n",
    "plt.xlim(3, 4000)\n",
    "plt.xscale('log')"
   ]
  },
  {
   "cell_type": "code",
   "execution_count": 89,
   "id": "626842c7",
   "metadata": {},
   "outputs": [
    {
     "data": {
      "image/png": "[encoded data removed]",
      "text/plain": [
       "<Figure size 432x144 with 1 Axes>"
      ]
     },
     "metadata": {
      "needs_background": "light"
     },
     "output_type": "display_data"
    },
    {
     "data": {
      "image/png": "[encoded data removed]",
      "text/plain": [
       "<Figure size 432x144 with 1 Axes>"
      ]
     },
     "metadata": {
      "needs_background": "light"
     },
     "output_type": "display_data"
    }
   ],
   "source": [
    "#kendall assumes they orbit primary stars which is prob mostly true based on nathanael's work?\n",
    "\n",
    "# planets with good radii in binary systems with rho<100 au and planet period < 100 days\n",
    "plt.figure(figsize=(6,2))\n",
    "plt.hist(db['Rppri'][good & close], range=[0.2,4], bins=20, \n",
    "         density=True, histtype='step')\n",
    "\n",
    "# compared to the kois that are at least not definite binaries with good radii and per<100 days\n",
    "plt.hist(kois_less['koi_prad'][kgood], range=[0.2,4], bins=20, \n",
    "         density=True, histtype='step')\n",
    "plt.show()\n",
    "\n",
    "plt.figure(figsize=(6,2))\n",
    "plt.hist(db['Rppri'][good & ~close], range=[0.2,4], bins=20, \n",
    "         density=True, histtype='step')\n",
    "plt.hist(kois_less['koi_prad'][kgood], range=[0.2,4], bins=20, \n",
    "         density=True, histtype='step')\n",
    "plt.show()\n"
   ]
  },
  {
   "cell_type": "raw",
   "id": "45393902",
   "metadata": {},
   "source": [
    "next up I take the kois_less (kois with good params minus any that are binaries in kendall's list) and pretend every single star is actually a binary star with a separation drawn randomly from Kendall's sample's distribution of separations. Suppress the formation of > 2 Rearth planets using the suppression model and remake the histogram. Does it work?"
   ]
  }
 ],
 "metadata": {
  "kernelspec": {
   "display_name": "Python 3 (ipykernel)",
   "language": "python",
   "name": "python3"
  },
  "language_info": {
   "codemirror_mode": {
    "name": "ipython",
    "version": 3
   },
   "file_extension": ".py",
   "mimetype": "text/x-python",
   "name": "python",
   "nbconvert_exporter": "python",
   "pygments_lexer": "ipython3",
   "version": "3.8.12"
  }
 },
 "nbformat": 4,
 "nbformat_minor": 5
}
