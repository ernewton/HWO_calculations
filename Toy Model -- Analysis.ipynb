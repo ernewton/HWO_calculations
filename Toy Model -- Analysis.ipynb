{
 "cells": [
  {
   "cell_type": "markdown",
   "id": "8cababed",
   "metadata": {},
   "source": [
    "# Toy Model: Analysis"
   ]
  },
  {
   "cell_type": "code",
   "execution_count": 10,
   "id": "2571301f",
   "metadata": {},
   "outputs": [],
   "source": [
    "from astropy.table import Table\n",
    "import matplotlib.pyplot as plt\n",
    "import numpy as np\n",
    "import matplotlib as mpl\n",
    "import pickle\n",
    "import pandas as pd\n",
    "\n",
    "# my preferred settings\n",
    "mpl.rc('lines',linewidth = 1.5)\n",
    "mpl.rc('font',size = 14)\n",
    "mpl.rc('axes',labelsize = 16, linewidth=1.25)\n",
    "mpl.rc('xtick',labelsize = 16)\n",
    "mpl.rc('ytick',labelsize = 16)\n",
    "# enable math fonts\n",
    "mpl.rc('mathtext', default = 'regular')\n",
    "plt.rcParams['savefig.dpi'] = 400 \n",
    "\n",
    "from sbin.sbin import suppression_factor, suppression_simulation\n",
    "from sbin import parameters"
   ]
  },
  {
   "cell_type": "markdown",
   "id": "d6ef786c",
   "metadata": {},
   "source": [
    "### Read in data saved from Filtering"
   ]
  },
  {
   "cell_type": "code",
   "execution_count": 2,
   "id": "44c544af",
   "metadata": {},
   "outputs": [],
   "source": [
    "with open(\"filtered_data.pkl\", \"rb\") as f:\n",
    "     data = pickle.load(f)\n",
    "db_filtered = data[\"db_filtered\"]\n",
    "close = data[\"close\"]\n",
    "good = data[\"good\"]\n",
    "kois_filtered = data[\"kois_filtered\"]\n",
    "kois_good = data[\"kois_good\"]\n",
    "cks_filtered = data[\"cks_filtered\"]\n",
    "cks_good = data[\"cks_good\"]"
   ]
  },
  {
   "cell_type": "code",
   "execution_count": 3,
   "id": "2d73d8a3",
   "metadata": {},
   "outputs": [],
   "source": [
    "# separation values (as lists) for each star in binary sample\n",
    "# for use in the simulation\n",
    "tmp = db_filtered[good & close].groupby('KOI')['SepAU'].agg('unique')\n",
    "binary_separations = np.concatenate(tmp.to_numpy())"
   ]
  },
  {
   "cell_type": "markdown",
   "id": "bff51dfb",
   "metadata": {},
   "source": [
    "# Toy Model\n",
    "\n",
    "### Suppress the KOIs"
   ]
  },
  {
   "cell_type": "code",
   "execution_count": 4,
   "id": "5a7c1299",
   "metadata": {},
   "outputs": [
    {
     "name": "stdout",
     "output_type": "stream",
     "text": [
      "[0.49480345 0.50033852 0.50720659 0.51426583 0.52226148]\n"
     ]
    }
   ],
   "source": [
    "# define bins for recording plotting\n",
    "histrange=[0.5,4]\n",
    "nbins=13\n",
    "\n",
    "bin_edges = np.linspace(histrange[0], histrange[1], nbins + 1)\n",
    "bin_width = bin_edges[1] - bin_edges[0]\n",
    "bin_center = bin_edges[:-1] + bin_width/2.\n",
    "\n",
    "\n",
    "# run trials and save the results\n",
    "ntrials = 1000\n",
    "koi_sim_hist = np.ones((ntrials,len(bin_center)))\n",
    "koi_sim_npl = np.ones((ntrials,5))\n",
    "frac_SE_arr = np.ones(ntrials)\n",
    "mtps_arr = np.ones(ntrials)\n",
    "for i in range(ntrials):\n",
    "    prad_sim_tmp, sim_counts, frac_SE_arr[i], mtps_arr[i] = suppression_simulation(kois_filtered, \n",
    "                                                                              binary_separations,\n",
    "                                                                              join_on='KOI', \n",
    "                                                                              prad_col='koi_prad')\n",
    "    # histogram of planet radii\n",
    "    hist, _ = np.histogram(prad_sim_tmp, \n",
    "            range=histrange, bins=nbins, density=True)\n",
    "    koi_sim_hist[i] = hist\n",
    "    \n",
    "\n",
    "    # histogram of n_planets\n",
    "    hist, _ = np.histogram(sim_counts['n_planets'], density=True, bins=[0.5,1.5,2.5,3.5,4.5,5.5])\n",
    "    koi_sim_npl[i] = hist\n",
    "    \n",
    "\n",
    "low, koi_prad_sim, high = np.percentile(koi_sim_hist, q=(2.25,50,98.75), axis=0)\n",
    "e_koi_prad_sim = (high-low)/2\n",
    "\n",
    "koi_SE_frac = np.percentile(frac_SE_arr, q=(2.25,13.6,50,86.4, 98.75))\n",
    "print(koi_SE_frac)\n",
    "\n",
    "#np.percentile(mtps_arr, q=(2.25,13.6,50,86.4, 98.75))"
   ]
  },
  {
   "cell_type": "code",
   "execution_count": 5,
   "id": "60cdfcde",
   "metadata": {},
   "outputs": [
    {
     "name": "stdout",
     "output_type": "stream",
     "text": [
      "[0.20260147 0.20903107 0.21814924 0.22628004 0.23526847]\n"
     ]
    }
   ],
   "source": [
    "koi_MTPS_frac = np.percentile(mtps_arr, q=(2.25,13.6, 50,86.4,98.75))\n",
    "print(koi_MTPS_frac)"
   ]
  },
  {
   "cell_type": "markdown",
   "id": "7a7d54ae",
   "metadata": {},
   "source": [
    "###  Suppress CKS"
   ]
  },
  {
   "cell_type": "code",
   "execution_count": 6,
   "id": "20066954",
   "metadata": {},
   "outputs": [
    {
     "name": "stdout",
     "output_type": "stream",
     "text": [
      "[0.59082892 0.60035842 0.61243144 0.62616822 0.64176245]\n"
     ]
    }
   ],
   "source": [
    "\n",
    "cks_sim_hist = np.ones((ntrials,len(bin_center)))\n",
    "cks_sim_npl = np.ones((ntrials,5))\n",
    "for i in range(ntrials):\n",
    "    prad_sim_tmp, sim_counts, frac_SE_arr[i], mtps_arr[i] = suppression_simulation(cks_filtered, binary_separations, join_on='KOI', prad_col='Rp')\n",
    "    hist, _ = np.histogram(prad_sim_tmp, \n",
    "            range=histrange, bins=nbins, density=True)\n",
    "    cks_sim_hist[i] = hist\n",
    "\n",
    "    # histogram of n_planets\n",
    "    hist, _ = np.histogram(sim_counts['n_planets'], density=True, bins=[0.5,1.5,2.5,3.5,4.5,5.5])\n",
    "    cks_sim_npl[i] = hist\n",
    "    \n",
    "    \n",
    "low, cks_prad_sim, high = np.percentile(cks_sim_hist, q=(2.25,50,98.75), axis=0)\n",
    "e_cks_prad_sim = (high-low)/2\n",
    "\n",
    "cks_SE_frac = np.percentile(frac_SE_arr, q=(2.25,13.6, 50,86.4,98.75))\n",
    "\n",
    "print(cks_SE_frac)"
   ]
  },
  {
   "cell_type": "code",
   "execution_count": 7,
   "id": "70fb5bae",
   "metadata": {},
   "outputs": [
    {
     "name": "stdout",
     "output_type": "stream",
     "text": [
      "[0.23738344 0.24867114 0.26235695 0.2764936  0.28735387]\n"
     ]
    }
   ],
   "source": [
    "cks_MTPS_frac = np.percentile(mtps_arr, q=(2.25,13.6, 50,86.4,98.75))\n",
    "print(cks_MTPS_frac)"
   ]
  },
  {
   "cell_type": "markdown",
   "id": "1e2736e1",
   "metadata": {},
   "source": [
    "# Plot the results\n",
    "\n",
    "### Radius"
   ]
  },
  {
   "cell_type": "code",
   "execution_count": 11,
   "id": "cef28d2e",
   "metadata": {},
   "outputs": [
    {
     "data": {
      "image/png": "[encoded data removed]",
      "text/plain": [
       "<Figure size 504x237.6 with 1 Axes>"
      ]
     },
     "metadata": {
      "needs_background": "light"
     },
     "output_type": "display_data"
    }
   ],
   "source": [
    "fig, axes = plt.subplots(1, 1, figsize=(7,3.3), sharex=True, sharey=True)\n",
    "\n",
    "# planets with good radii in binary systems with rho<100 au and planet period < 100 days\n",
    "y, _, _ = plt.hist(db_filtered['Rppri'][good & close], \n",
    "             range=histrange, bins=nbins, density=True, \n",
    "         histtype='stepfilled', edgecolor='#1f77b4', facecolor='#e8f1f7',\n",
    "        label='Close binaries')\n",
    "n, _ = np.histogram(db_filtered['Rppri'][good & close], \n",
    "             range=histrange, bins=nbins)\n",
    "\n",
    "plt.hist(db_filtered['Rppri'][good & close], \n",
    "             range=histrange, bins=nbins, density=True, \n",
    "             histtype='stepfilled',  edgecolor='#1f77b4', facecolor='#e8f1f7')\n",
    "plt.errorbar(bin_center, y, np.sqrt(n)/np.sum(n)/bin_width, ls='None', lw=1, capsize=2, c='C0')\n",
    "\n",
    "\n",
    "x = np.concatenate((bin_edges, [bin_edges[-1]+bin_width]))\n",
    "y = np.concatenate(([0], koi_prad_sim, [0]))\n",
    "plt.step(x, y, c='C4', lw=2)\n",
    "\n",
    "y = np.concatenate(([0], cks_prad_sim, [0]))\n",
    "plt.errorbar(bin_center-0.02, koi_prad_sim, e_koi_prad_sim, ls='None', lw=2, capsize=3, c='C4')\n",
    "plt.step(x, y, linestyle='--', c='C1', lw=1.5)\n",
    "plt.errorbar(bin_center+0.025, cks_prad_sim, e_cks_prad_sim, ls='None', lw=2, capsize=2, c='C1')\n",
    "\n",
    "plt.text(0.98, 0.95, 'KOIs & CKS: $R_P>1.7 R_E$ suppressed',\n",
    "     horizontalalignment='right',\n",
    "     verticalalignment='top',\n",
    "     fontsize=12,\n",
    "     transform = axes.transAxes)\n",
    "\n",
    "plt.xlabel('$R_P$ [$R_E$]')\n",
    "plt.ylabel('Density')\n",
    "plt.tight_layout()\n",
    "plt.xlim(0.325, 4.175)\n",
    "plt.savefig('suppression.png')"
   ]
  },
  {
   "cell_type": "markdown",
   "id": "baa64919",
   "metadata": {},
   "source": [
    "### Multiplicity"
   ]
  },
  {
   "cell_type": "code",
   "execution_count": 16,
   "id": "02cc9b99",
   "metadata": {},
   "outputs": [
    {
     "data": {
      "image/png": "[encoded data removed]",
      "text/plain": [
       "<Figure size 504x432 with 2 Axes>"
      ]
     },
     "metadata": {
      "needs_background": "light"
     },
     "output_type": "display_data"
    }
   ],
   "source": [
    "x = np.array([1,2,3,4,5])\n",
    "\n",
    "close_planet_counts = db_filtered[close].groupby('KOI').size().reset_index(name='n_planets')\n",
    "koi_planet_counts = kois_filtered.groupby('KOI').size().reset_index(name='n_planets')\n",
    "\n",
    "#fig, axes = plt.subplots(1, 1, figsize=(7,5), sharex=True, sharey=True)\n",
    "fig, axes = plt.subplots(2, 1, figsize=(7,6), sharex=True, sharey=True)\n",
    "\n",
    "y, _ = np.histogram(close_planet_counts['n_planets'], density=True, bins=[0.5,1.5,2.5,3.5,4.5,5.5])\n",
    "axes[1].bar(x, y, edgecolor='#1f77b4', facecolor='#e8f1f7', width=0.9, lw=1.5, label='Close binaries')\n",
    "\n",
    "y, _ = np.histogram(koi_planet_counts['n_planets'], density=True, bins=[0.5,1.5,2.5,3.5,4.5,5.5])     \n",
    "axes[1].bar(x-0.2, y, edgecolor='C4', facecolor='None', hatch='/', width=0.3, lw=1.5, label='KOIs (all)')\n",
    "\n",
    "low, npl_sim, high = np.percentile(koi_sim_npl, q=(2.25,50,98.75), axis=0)\n",
    "e_npl_sim = (high-low)/2\n",
    "\n",
    "axes[1].bar(x+0.2, npl_sim, edgecolor='C4', facecolor='C4', width=0.3, lw=1.5, label='Suppressed')\n",
    "#plt.errorbar(, koi_prad_sim, e_koi_prad_sim, ls='None', lw=2, capsize=3, c='C4')\n",
    "\n",
    "axes[1].legend()\n",
    "axes[1].set_ylabel('Density')\n",
    "\n",
    "\n",
    "y, _ = np.histogram(close_planet_counts['n_planets'], density=True, bins=[0.5,1.5,2.5,3.5,4.5,5.5])\n",
    "axes[0].bar(x, y, edgecolor='#1f77b4', facecolor='#e8f1f7', width=0.9, linewidth=1.5, label='Close binaries')\n",
    "\n",
    "wide_planet_counts = db_filtered[~close].groupby('KOI').size().reset_index(name='n_planets')\n",
    "y, _ = np.histogram(wide_planet_counts['n_planets'], density=True, bins=[0.5,1.5,2.5,3.5,4.5,5.5])\n",
    "axes[0].bar(x, y, edgecolor='gray', facecolor='None', hatch=\"\\\\\", width=0.4, linewidth=1.5, label='Wide binaries')\n",
    "\n",
    "axes[0].legend()\n",
    "axes[0].set_ylabel('Density')\n",
    "plt.xlabel('Number of planets per star')\n",
    "plt.tight_layout()\n",
    "\n",
    "plt.savefig('multiplicity.png')"
   ]
  },
  {
   "cell_type": "code",
   "execution_count": null,
   "id": "06bda70c",
   "metadata": {},
   "outputs": [],
   "source": []
  }
 ],
 "metadata": {
  "kernelspec": {
   "display_name": "Python 3 (ipykernel)",
   "language": "python",
   "name": "python3"
  },
  "language_info": {
   "codemirror_mode": {
    "name": "ipython",
    "version": 3
   },
   "file_extension": ".py",
   "mimetype": "text/x-python",
   "name": "python",
   "nbconvert_exporter": "python",
   "pygments_lexer": "ipython3",
   "version": "3.8.5"
  }
 },
 "nbformat": 4,
 "nbformat_minor": 5
}
