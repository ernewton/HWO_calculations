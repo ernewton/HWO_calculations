{
 "cells": [
  {
   "cell_type": "markdown",
   "id": "c0dd42ce",
   "metadata": {},
   "source": [
    "# Binary Planet Suppression: Imports and data gathering"
   ]
  },
  {
   "cell_type": "code",
   "execution_count": 1,
   "id": "4ca93d64",
   "metadata": {},
   "outputs": [],
   "source": [
    "from astropy.table import Table\n",
    "import matplotlib.pyplot as plt\n",
    "import numpy as np\n",
    "import matplotlib as mpl\n",
    "\n",
    "mpl.rc('lines',linewidth = 1.5)\n",
    "mpl.rc('font',size = 12)\n",
    "mpl.rc('axes',labelsize = 14, linewidth=1.25)\n",
    "mpl.rc('xtick',labelsize = 14)\n",
    "mpl.rc('ytick',labelsize = 14)\n",
    "# enable math fonts\n",
    "mpl.rc('mathtext', default = 'regular')\n",
    "\n",
    "import pickle\n",
    "\n",
    "import pandas as pd"
   ]
  },
  {
   "cell_type": "markdown",
   "id": "b206ab9f",
   "metadata": {},
   "source": [
    "## Data from Kepler survey\n",
    "\n",
    "Our goal here is just to get parallaxes for the KOIs. I only need these for the Sullivan binary catalog later, because for those stars I will need to convert angular separations to distances."
   ]
  },
  {
   "cell_type": "markdown",
   "id": "c8c4deda",
   "metadata": {},
   "source": [
    "### First up the KOI catalog, downloaded from NExSci"
   ]
  },
  {
   "cell_type": "code",
   "execution_count": 2,
   "id": "51e58889",
   "metadata": {},
   "outputs": [
    {
     "name": "stdout",
     "output_type": "stream",
     "text": [
      "Length of KOI table:  9564\n"
     ]
    },
    {
     "data": {
      "text/html": [
       "<div>\n",
       "<style scoped>\n",
       "    .dataframe tbody tr th:only-of-type {\n",
       "        vertical-align: middle;\n",
       "    }\n",
       "\n",
       "    .dataframe tbody tr th {\n",
       "        vertical-align: top;\n",
       "    }\n",
       "\n",
       "    .dataframe thead th {\n",
       "        text-align: right;\n",
       "    }\n",
       "</style>\n",
       "<table border=\"1\" class=\"dataframe\">\n",
       "  <thead>\n",
       "    <tr style=\"text-align: right;\">\n",
       "      <th></th>\n",
       "      <th>kepid</th>\n",
       "      <th>KOI</th>\n",
       "      <th>kepoi_name</th>\n",
       "      <th>kepler_name</th>\n",
       "      <th>koi_disposition</th>\n",
       "      <th>koi_prad</th>\n",
       "    </tr>\n",
       "  </thead>\n",
       "  <tbody>\n",
       "    <tr>\n",
       "      <th>0</th>\n",
       "      <td>11446443</td>\n",
       "      <td>1</td>\n",
       "      <td>K00001.01</td>\n",
       "      <td>Kepler-1 b</td>\n",
       "      <td>CONFIRMED</td>\n",
       "      <td>13.04</td>\n",
       "    </tr>\n",
       "    <tr>\n",
       "      <th>1</th>\n",
       "      <td>10666592</td>\n",
       "      <td>2</td>\n",
       "      <td>K00002.01</td>\n",
       "      <td>Kepler-2 b</td>\n",
       "      <td>CONFIRMED</td>\n",
       "      <td>16.10</td>\n",
       "    </tr>\n",
       "    <tr>\n",
       "      <th>2</th>\n",
       "      <td>10748390</td>\n",
       "      <td>3</td>\n",
       "      <td>K00003.01</td>\n",
       "      <td>Kepler-3 b</td>\n",
       "      <td>CONFIRMED</td>\n",
       "      <td>4.82</td>\n",
       "    </tr>\n",
       "    <tr>\n",
       "      <th>3</th>\n",
       "      <td>3861595</td>\n",
       "      <td>4</td>\n",
       "      <td>K00004.01</td>\n",
       "      <td>Kepler-1658 b</td>\n",
       "      <td>CONFIRMED</td>\n",
       "      <td>12.94</td>\n",
       "    </tr>\n",
       "    <tr>\n",
       "      <th>4</th>\n",
       "      <td>8554498</td>\n",
       "      <td>5</td>\n",
       "      <td>K00005.01</td>\n",
       "      <td></td>\n",
       "      <td>CANDIDATE</td>\n",
       "      <td>7.14</td>\n",
       "    </tr>\n",
       "  </tbody>\n",
       "</table>\n",
       "</div>"
      ],
      "text/plain": [
       "      kepid  KOI kepoi_name    kepler_name koi_disposition  koi_prad\n",
       "0  11446443    1  K00001.01     Kepler-1 b       CONFIRMED     13.04\n",
       "1  10666592    2  K00002.01     Kepler-2 b       CONFIRMED     16.10\n",
       "2  10748390    3  K00003.01     Kepler-3 b       CONFIRMED      4.82\n",
       "3   3861595    4  K00004.01  Kepler-1658 b       CONFIRMED     12.94\n",
       "4   8554498    5  K00005.01                      CANDIDATE      7.14"
      ]
     },
     "execution_count": 2,
     "metadata": {},
     "output_type": "execute_result"
    }
   ],
   "source": [
    "# read in KOI catalog, massage the name strings\n",
    "kois = Table.read('/Users/enewton/DATA_DIR/nexscikois_2025.05.12_09.55.50.vot').to_pandas()\n",
    "kois['kepid'] = kois['kepid'].astype('int64')\n",
    "kois['KOI'] = kois['kepoi_name'].str.extract(r'K0*(\\d+)\\.\\d+')[0].astype(int)\n",
    "\n",
    "print(\"Length of KOI table: \", len(kois))\n",
    "kois[['kepid','KOI', 'kepoi_name', 'kepler_name', 'koi_disposition', 'koi_prad']].head()"
   ]
  },
  {
   "cell_type": "code",
   "execution_count": 3,
   "id": "0194ff36",
   "metadata": {},
   "outputs": [
    {
     "data": {
      "text/plain": [
       "Index(['kepid', 'kepoi_name', 'kepler_name', 'koi_disposition',\n",
       "       'koi_pdisposition', 'koi_score', 'koi_fpflag_nt', 'koi_fpflag_ss',\n",
       "       'koi_fpflag_co', 'koi_fpflag_ec', 'koi_period', 'koi_period_err1',\n",
       "       'koi_period_err2', 'koi_time0bk', 'koi_time0bk_err1',\n",
       "       'koi_time0bk_err2', 'koi_impact', 'koi_impact_err1', 'koi_impact_err2',\n",
       "       'koi_duration', 'koi_duration_err1', 'koi_duration_err2', 'koi_depth',\n",
       "       'koi_depth_err1', 'koi_depth_err2', 'koi_prad', 'koi_prad_err1',\n",
       "       'koi_prad_err2', 'koi_teq', 'koi_teq_err1', 'koi_teq_err2', 'koi_insol',\n",
       "       'koi_insol_err1', 'koi_insol_err2', 'koi_model_snr', 'koi_tce_plnt_num',\n",
       "       'koi_tce_delivname', 'koi_steff', 'koi_steff_err1', 'koi_steff_err2',\n",
       "       'koi_slogg', 'koi_slogg_err1', 'koi_slogg_err2', 'koi_srad',\n",
       "       'koi_srad_err1', 'koi_srad_err2', 'ra', 'dec', 'koi_kepmag', 'KOI'],\n",
       "      dtype='object')"
      ]
     },
     "execution_count": 3,
     "metadata": {},
     "output_type": "execute_result"
    }
   ],
   "source": [
    "kois.columns"
   ]
  },
  {
   "cell_type": "markdown",
   "id": "b834f5d7",
   "metadata": {},
   "source": [
    "### Now Bedell's Gaia-Kepler fun crossmatches\n",
    "\n",
    "First we'll look at the 1-1 matches, `kepler_dr3_good.fits`. "
   ]
  },
  {
   "cell_type": "code",
   "execution_count": 8,
   "id": "7fd32e12",
   "metadata": {},
   "outputs": [
    {
     "name": "stdout",
     "output_type": "stream",
     "text": [
      "Length of KICxGaia table:  196762\n",
      "Length of KOIsxKICxGaia table:  9564\n"
     ]
    }
   ],
   "source": [
    "# Read in the KIC from Bedell's Gaia-Kepler fun (1-1 matches only, all entries are unique)\n",
    "kic = Table.read('/Users/enewton/DATA_DIR/kepler_dr3_good.fits').to_pandas()\n",
    "kic['bedell_cat'] = 'good'\n",
    "print(\"Length of KICxGaia table: \", len(kic))\n",
    "\n",
    "# Cross match KOIs and KIC \n",
    "kois_x_kic = kois.merge(kic[['kepid', 'parallax','parallax_over_error','source_id','kepler_gaia_ang_dist',\n",
    "                             'phot_g_mean_mag','ruwe','teff','bedell_cat']], how='left', on='kepid')\n",
    "print(\"Length of KOIsxKICxGaia table: \", len(kois_x_kic))\n",
    "\n",
    "# note: converts source_id to float because of NaNs"
   ]
  },
  {
   "cell_type": "code",
   "execution_count": 9,
   "id": "d32da48e",
   "metadata": {},
   "outputs": [
    {
     "data": {
      "text/plain": [
       "Index(['kepid', 'ra_kic', 'dec_kic', 'source_id', 'random_index', 'ra', 'dec',\n",
       "       'parallax', 'parallax_error', 'parallax_over_error', 'pmra',\n",
       "       'pmra_error', 'pmdec', 'pmdec_error', 'astrometric_params_solved',\n",
       "       'pseudocolour', 'pseudocolour_error', 'ipd_frac_multi_peak',\n",
       "       'ipd_frac_odd_win', 'ruwe', 'phot_g_mean_flux_over_error',\n",
       "       'phot_g_mean_mag', 'phot_bp_mean_flux_over_error', 'phot_bp_mean_mag',\n",
       "       'phot_rp_mean_flux_over_error', 'phot_rp_mean_mag',\n",
       "       'phot_bp_rp_excess_factor', 'bp_rp', 'radial_velocity',\n",
       "       'radial_velocity_error', 'rv_nb_transits', 'rv_expected_sig_to_noise',\n",
       "       'rv_renormalised_gof', 'rv_chisq_pvalue', 'phot_variable_flag', 'l',\n",
       "       'b', 'in_qso_candidates', 'in_galaxy_candidates', 'non_single_star',\n",
       "       'has_xp_continuous', 'has_xp_sampled', 'has_rvs',\n",
       "       'has_epoch_photometry', 'has_epoch_rv', 'has_mcmc_gspphot',\n",
       "       'has_mcmc_msc', 'in_andromeda_survey', 'teff_gspphot', 'logg_gspphot',\n",
       "       'mh_gspphot', 'distance_gspphot', 'ag_gspphot', 'ebpminrp_gspphot',\n",
       "       'angdist', 'kepler_gaia_ang_dist', 'pm_corrected', 'tm_designation',\n",
       "       'kepmag', 'teff', 'teff_err1', 'teff_err2', 'teff_prov', 'logg',\n",
       "       'logg_err1', 'logg_err2', 'logg_prov', 'feh', 'feh_err1', 'feh_err2',\n",
       "       'feh_prov', 'radius', 'radius_err1', 'radius_err2', 'mass', 'mass_err1',\n",
       "       'mass_err2', 'prov_sec', 'nconfp', 'nkoi', 'ntce', 'jmag', 'hmag',\n",
       "       'kmag', 'planet?', 'kepler_gaia_mag_diff', 'bedell_cat'],\n",
       "      dtype='object')"
      ]
     },
     "execution_count": 9,
     "metadata": {},
     "output_type": "execute_result"
    }
   ],
   "source": [
    "kic.columns"
   ]
  },
  {
   "cell_type": "markdown",
   "id": "bf466f15",
   "metadata": {},
   "source": [
    "Now we'll move onto the larger cross-match Megan did, based on larger angular distances. I determined I needed the 4 arcsec table (too many stars were outside the 1 arcsec match). My by-eye checking of several entries on Simbad indicates that the additionally matches are at least in agreement with what Simbad thinks. They're all pretty faint, seem to be distant M dwarfs. Would be ideal to check the colors actually make sense, but that's beyond what's needed for this analysis."
   ]
  },
  {
   "cell_type": "code",
   "execution_count": 10,
   "id": "3c709c8f",
   "metadata": {},
   "outputs": [
    {
     "name": "stdout",
     "output_type": "stream",
     "text": [
      "Length of updated KOIsxKICxGaia table:  9564\n",
      "Previously had missing matches:  142\n",
      "Now have missing matches:  2\n",
      "Now have missing number of parallaxes:  172\n"
     ]
    }
   ],
   "source": [
    "## Read in the bigger cross-match to find the missing Gaia matches\n",
    "kic4as = Table.read('/Users/enewton/DATA_DIR/kepler_dr3_4arcsec.fits').to_pandas()\n",
    "kic4as['bedell_cat'] = '4as'\n",
    "\n",
    "# Fill in the stars with missing Gaia matches\n",
    "missing_mask = kois_x_kic['source_id'].isnull()\n",
    "missing_rows = kois_x_kic.loc[missing_mask, 'kepid'].unique()\n",
    "\n",
    "# Subset of kic1as those missing parallaxes\n",
    "kic4as_subset = kic4as[kic4as['kepid'].isin(missing_rows)]\n",
    "\n",
    "# Hope the closest match is the best match\n",
    "kic4as_first = kic4as_subset.sort_values(['kepid','kepler_gaia_ang_dist']).groupby('kepid').first().reset_index()\n",
    "\n",
    "# Columns coming from kic1as_first to fill into kic_merged\n",
    "columns_to_fill = ['parallax', 'parallax_over_error','source_id', 'kepler_gaia_ang_dist', 'phot_g_mean_mag','ruwe','teff','bedell_cat']\n",
    "\n",
    "# Merge relevant kic1as columns with kic_updated\n",
    "k1 = kic4as_first[['kepid'] + columns_to_fill]\n",
    "temp = kois_x_kic.merge(k1, how='left', on='kepid', suffixes=('', '_4as'))\n",
    "\n",
    "for col in columns_to_fill:\n",
    "    temp[col] = temp[col].fillna(temp[col + '_4as']) # fill column\n",
    "    temp.drop(columns=[col + '_4as'], inplace=True) # drop temp column\n",
    "\n",
    "# Temp now has the filled columns\n",
    "kois_x_kic4as = temp\n",
    "    \n",
    "kois_x_kic4as.loc[kois_x_kic4as['parallax'] < 0, 'parallax'] = np.nan\n",
    "\n",
    "kois_x_kic4as[columns_to_fill][missing_mask].head() #2126519126656859904\n",
    "\n",
    "print(\"Length of updated KOIsxKICxGaia table: \", len(kois_x_kic4as))\n",
    "print(\"Previously had missing matches: \", sum(missing_mask))\n",
    "print(\"Now have missing matches: \", sum(kois_x_kic4as['source_id'].isnull()))\n",
    "print(\"Now have missing number of parallaxes: \", sum(kois_x_kic4as['parallax'].isnull()))"
   ]
  },
  {
   "cell_type": "markdown",
   "id": "9ca7122c",
   "metadata": {},
   "source": [
    "### Save the results"
   ]
  },
  {
   "cell_type": "code",
   "execution_count": 11,
   "id": "1b0bdc9e",
   "metadata": {},
   "outputs": [],
   "source": [
    "kois_x_kic4as[['kepid', 'kepoi_name', 'kepler_name', 'koi_disposition',\n",
    "               'koi_pdisposition', 'koi_period', 'koi_prad', 'koi_prad_err1', 'koi_prad_err2',\n",
    "               'koi_kepmag', 'KOI', 'koi_steff', 'teff',\n",
    "               'source_id', 'parallax', 'parallax_over_error', 'kepler_gaia_ang_dist',\n",
    "               'phot_g_mean_mag', 'ruwe','bedell_cat']].to_pickle('kois+gaia.pkl')\n"
   ]
  },
  {
   "cell_type": "markdown",
   "id": "69c3058f",
   "metadata": {},
   "source": [
    "## Data from Sullivan et al."
   ]
  },
  {
   "cell_type": "markdown",
   "id": "c62637b8",
   "metadata": {},
   "source": [
    "### Starting with the published tables"
   ]
  },
  {
   "cell_type": "code",
   "execution_count": 8,
   "id": "780ff85e",
   "metadata": {},
   "outputs": [
    {
     "name": "stderr",
     "output_type": "stream",
     "text": [
      "WARNING: UnitsWarning: Unit 'x' not supported by the VOUnit standard.  [astropy.units.format.vounit]\n"
     ]
    }
   ],
   "source": [
    "#https://vizier.cds.unistra.fr/viz-bin/VizieR-3?-source=J/AJ/168/129/table5\n",
    "sullivan = Table.read('sullivan2024_planets.vot').to_pandas()\n",
    "\n",
    "# https://vizier.cds.unistra.fr/viz-bin/VizieR-3?-source=J/AJ/168/129/sample\n",
    "stars = Table.read('sullivan2024_stars.vot').to_pandas() \n",
    "\n",
    "planets = sullivan.merge(stars, how='left', on='KOI')\n",
    "planets['KOI'] = planets['KOI'].astype(int)"
   ]
  },
  {
   "cell_type": "code",
   "execution_count": 9,
   "id": "95737699",
   "metadata": {},
   "outputs": [
    {
     "name": "stdout",
     "output_type": "stream",
     "text": [
      "Length of sullivan:  404  (This is the number of planets in the binary sample)\n"
     ]
    },
    {
     "data": {
      "text/html": [
       "<div>\n",
       "<style scoped>\n",
       "    .dataframe tbody tr th:only-of-type {\n",
       "        vertical-align: middle;\n",
       "    }\n",
       "\n",
       "    .dataframe tbody tr th {\n",
       "        vertical-align: top;\n",
       "    }\n",
       "\n",
       "    .dataframe thead th {\n",
       "        text-align: right;\n",
       "    }\n",
       "</style>\n",
       "<table border=\"1\" class=\"dataframe\">\n",
       "  <thead>\n",
       "    <tr style=\"text-align: right;\">\n",
       "      <th></th>\n",
       "      <th>KOIpl</th>\n",
       "      <th>Rppri</th>\n",
       "      <th>E_Rppri</th>\n",
       "      <th>e_Rppri</th>\n",
       "      <th>Rpsec</th>\n",
       "      <th>E_Rpsec</th>\n",
       "      <th>e_Rpsec</th>\n",
       "      <th>Rpkep</th>\n",
       "      <th>e_Rpkep</th>\n",
       "      <th>Teqpri</th>\n",
       "      <th>...</th>\n",
       "      <th>e_Spri</th>\n",
       "      <th>Ssec</th>\n",
       "      <th>E_Ssec</th>\n",
       "      <th>e_Ssec</th>\n",
       "      <th>Skep</th>\n",
       "      <th>e_Skep</th>\n",
       "      <th>KOI</th>\n",
       "      <th>Simbad</th>\n",
       "      <th>_RA</th>\n",
       "      <th>_DE</th>\n",
       "    </tr>\n",
       "  </thead>\n",
       "  <tbody>\n",
       "    <tr>\n",
       "      <th>0</th>\n",
       "      <td>42.009998</td>\n",
       "      <td>2.28</td>\n",
       "      <td>0.14</td>\n",
       "      <td>0.14</td>\n",
       "      <td>4.89</td>\n",
       "      <td>0.32</td>\n",
       "      <td>0.33</td>\n",
       "      <td>2.43</td>\n",
       "      <td>0.12</td>\n",
       "      <td>873</td>\n",
       "      <td>...</td>\n",
       "      <td>6.320000</td>\n",
       "      <td>15.800000</td>\n",
       "      <td>0.50</td>\n",
       "      <td>0.950000</td>\n",
       "      <td>132.94</td>\n",
       "      <td>20.74</td>\n",
       "      <td>0042</td>\n",
       "      <td>Simbad</td>\n",
       "      <td>283.15067</td>\n",
       "      <td>45.13982</td>\n",
       "    </tr>\n",
       "    <tr>\n",
       "      <th>1</th>\n",
       "      <td>112.010002</td>\n",
       "      <td>3.55</td>\n",
       "      <td>0.72</td>\n",
       "      <td>0.72</td>\n",
       "      <td>4.74</td>\n",
       "      <td>0.98</td>\n",
       "      <td>0.98</td>\n",
       "      <td>2.75</td>\n",
       "      <td>0.39</td>\n",
       "      <td>571</td>\n",
       "      <td>...</td>\n",
       "      <td>1.950000</td>\n",
       "      <td>8.590000</td>\n",
       "      <td>0.83</td>\n",
       "      <td>0.820000</td>\n",
       "      <td>15.17</td>\n",
       "      <td>6.00</td>\n",
       "      <td>0112</td>\n",
       "      <td>Simbad</td>\n",
       "      <td>295.64868</td>\n",
       "      <td>48.49555</td>\n",
       "    </tr>\n",
       "    <tr>\n",
       "      <th>2</th>\n",
       "      <td>112.019997</td>\n",
       "      <td>1.49</td>\n",
       "      <td>0.29</td>\n",
       "      <td>0.30</td>\n",
       "      <td>1.98</td>\n",
       "      <td>0.38</td>\n",
       "      <td>0.40</td>\n",
       "      <td>1.16</td>\n",
       "      <td>0.17</td>\n",
       "      <td>1371</td>\n",
       "      <td>...</td>\n",
       "      <td>64.290001</td>\n",
       "      <td>283.489990</td>\n",
       "      <td>27.43</td>\n",
       "      <td>27.200001</td>\n",
       "      <td>500.46</td>\n",
       "      <td>197.96</td>\n",
       "      <td>0112</td>\n",
       "      <td>Simbad</td>\n",
       "      <td>295.64868</td>\n",
       "      <td>48.49555</td>\n",
       "    </tr>\n",
       "    <tr>\n",
       "      <th>3</th>\n",
       "      <td>162.009995</td>\n",
       "      <td>3.72</td>\n",
       "      <td>0.86</td>\n",
       "      <td>0.83</td>\n",
       "      <td>4.50</td>\n",
       "      <td>0.93</td>\n",
       "      <td>0.92</td>\n",
       "      <td>3.11</td>\n",
       "      <td>0.45</td>\n",
       "      <td>848</td>\n",
       "      <td>...</td>\n",
       "      <td>15.300000</td>\n",
       "      <td>55.450001</td>\n",
       "      <td>11.28</td>\n",
       "      <td>11.620000</td>\n",
       "      <td>100.09</td>\n",
       "      <td>42.19</td>\n",
       "      <td>0162</td>\n",
       "      <td>Simbad</td>\n",
       "      <td>295.16377</td>\n",
       "      <td>43.96305</td>\n",
       "    </tr>\n",
       "    <tr>\n",
       "      <th>4</th>\n",
       "      <td>163.009995</td>\n",
       "      <td>2.71</td>\n",
       "      <td>0.26</td>\n",
       "      <td>0.26</td>\n",
       "      <td>3.09</td>\n",
       "      <td>0.30</td>\n",
       "      <td>0.29</td>\n",
       "      <td>2.08</td>\n",
       "      <td>0.14</td>\n",
       "      <td>676</td>\n",
       "      <td>...</td>\n",
       "      <td>2.790000</td>\n",
       "      <td>38.200001</td>\n",
       "      <td>2.17</td>\n",
       "      <td>2.080000</td>\n",
       "      <td>42.07</td>\n",
       "      <td>9.84</td>\n",
       "      <td>0163</td>\n",
       "      <td>Simbad</td>\n",
       "      <td>288.06760</td>\n",
       "      <td>42.35537</td>\n",
       "    </tr>\n",
       "  </tbody>\n",
       "</table>\n",
       "<p>5 rows × 28 columns</p>\n",
       "</div>"
      ],
      "text/plain": [
       "        KOIpl  Rppri  E_Rppri  e_Rppri  Rpsec  E_Rpsec  e_Rpsec  Rpkep  \\\n",
       "0   42.009998   2.28     0.14     0.14   4.89     0.32     0.33   2.43   \n",
       "1  112.010002   3.55     0.72     0.72   4.74     0.98     0.98   2.75   \n",
       "2  112.019997   1.49     0.29     0.30   1.98     0.38     0.40   1.16   \n",
       "3  162.009995   3.72     0.86     0.83   4.50     0.93     0.92   3.11   \n",
       "4  163.009995   2.71     0.26     0.26   3.09     0.30     0.29   2.08   \n",
       "\n",
       "   e_Rpkep  Teqpri  ...     e_Spri        Ssec  E_Ssec     e_Ssec    Skep  \\\n",
       "0     0.12     873  ...   6.320000   15.800000    0.50   0.950000  132.94   \n",
       "1     0.39     571  ...   1.950000    8.590000    0.83   0.820000   15.17   \n",
       "2     0.17    1371  ...  64.290001  283.489990   27.43  27.200001  500.46   \n",
       "3     0.45     848  ...  15.300000   55.450001   11.28  11.620000  100.09   \n",
       "4     0.14     676  ...   2.790000   38.200001    2.17   2.080000   42.07   \n",
       "\n",
       "   e_Skep   KOI  Simbad        _RA       _DE  \n",
       "0   20.74  0042  Simbad  283.15067  45.13982  \n",
       "1    6.00  0112  Simbad  295.64868  48.49555  \n",
       "2  197.96  0112  Simbad  295.64868  48.49555  \n",
       "3   42.19  0162  Simbad  295.16377  43.96305  \n",
       "4    9.84  0163  Simbad  288.06760  42.35537  \n",
       "\n",
       "[5 rows x 28 columns]"
      ]
     },
     "execution_count": 9,
     "metadata": {},
     "output_type": "execute_result"
    }
   ],
   "source": [
    "print(\"Length of sullivan: \", len(sullivan), \" (This is the number of planets in the binary sample)\")\n",
    "sullivan.head()"
   ]
  },
  {
   "cell_type": "code",
   "execution_count": 10,
   "id": "9b4bcf86",
   "metadata": {},
   "outputs": [
    {
     "name": "stdout",
     "output_type": "stream",
     "text": [
      "Length of stars:  286  (This is the number of stars/planetary SYSTEMS in the binary sample)\n",
      "Confirm total number of planets:  404  (This is the sum of the number of planets column)\n"
     ]
    },
    {
     "data": {
      "text/html": [
       "<div>\n",
       "<style scoped>\n",
       "    .dataframe tbody tr th:only-of-type {\n",
       "        vertical-align: middle;\n",
       "    }\n",
       "\n",
       "    .dataframe tbody tr th {\n",
       "        vertical-align: top;\n",
       "    }\n",
       "\n",
       "    .dataframe thead th {\n",
       "        text-align: right;\n",
       "    }\n",
       "</style>\n",
       "<table border=\"1\" class=\"dataframe\">\n",
       "  <thead>\n",
       "    <tr style=\"text-align: right;\">\n",
       "      <th></th>\n",
       "      <th>NIRC2</th>\n",
       "      <th>KOI</th>\n",
       "      <th>Np</th>\n",
       "      <th>Sep</th>\n",
       "      <th>_tab1_5</th>\n",
       "      <th>rmag</th>\n",
       "      <th>SNR</th>\n",
       "      <th>dmi</th>\n",
       "      <th>e_dmi</th>\n",
       "      <th>dmLP600</th>\n",
       "      <th>...</th>\n",
       "      <th>fcorr-s</th>\n",
       "      <th>E_fcorr-s</th>\n",
       "      <th>e_fcorr-s</th>\n",
       "      <th>Source</th>\n",
       "      <th>K16</th>\n",
       "      <th>F17</th>\n",
       "      <th>Simbad</th>\n",
       "      <th>_RA</th>\n",
       "      <th>_DE</th>\n",
       "      <th>recno</th>\n",
       "    </tr>\n",
       "  </thead>\n",
       "  <tbody>\n",
       "    <tr>\n",
       "      <th>0</th>\n",
       "      <td>*</td>\n",
       "      <td>0042</td>\n",
       "      <td>1</td>\n",
       "      <td>1.66</td>\n",
       "      <td>2022-07-13</td>\n",
       "      <td>9.33</td>\n",
       "      <td>2095</td>\n",
       "      <td>NaN</td>\n",
       "      <td>NaN</td>\n",
       "      <td>3.04</td>\n",
       "      <td>...</td>\n",
       "      <td>2.01</td>\n",
       "      <td>0.10</td>\n",
       "      <td>0.09</td>\n",
       "      <td>1</td>\n",
       "      <td>1</td>\n",
       "      <td>1</td>\n",
       "      <td>Simbad</td>\n",
       "      <td>283.15067</td>\n",
       "      <td>45.13982</td>\n",
       "      <td>1</td>\n",
       "    </tr>\n",
       "    <tr>\n",
       "      <th>1</th>\n",
       "      <td>*</td>\n",
       "      <td>0112</td>\n",
       "      <td>2</td>\n",
       "      <td>0.11</td>\n",
       "      <td>2023-09-24</td>\n",
       "      <td>12.74</td>\n",
       "      <td>521</td>\n",
       "      <td>NaN</td>\n",
       "      <td>NaN</td>\n",
       "      <td>NaN</td>\n",
       "      <td>...</td>\n",
       "      <td>1.67</td>\n",
       "      <td>0.29</td>\n",
       "      <td>0.21</td>\n",
       "      <td>2</td>\n",
       "      <td>1</td>\n",
       "      <td>1</td>\n",
       "      <td>Simbad</td>\n",
       "      <td>295.64868</td>\n",
       "      <td>48.49555</td>\n",
       "      <td>2</td>\n",
       "    </tr>\n",
       "    <tr>\n",
       "      <th>2</th>\n",
       "      <td>*</td>\n",
       "      <td>0162</td>\n",
       "      <td>1</td>\n",
       "      <td>0.29</td>\n",
       "      <td>2022-10-21</td>\n",
       "      <td>13.77</td>\n",
       "      <td>297</td>\n",
       "      <td>NaN</td>\n",
       "      <td>NaN</td>\n",
       "      <td>0.81</td>\n",
       "      <td>...</td>\n",
       "      <td>1.42</td>\n",
       "      <td>0.26</td>\n",
       "      <td>0.20</td>\n",
       "      <td>2</td>\n",
       "      <td>0</td>\n",
       "      <td>1</td>\n",
       "      <td>Simbad</td>\n",
       "      <td>295.16377</td>\n",
       "      <td>43.96305</td>\n",
       "      <td>3</td>\n",
       "    </tr>\n",
       "    <tr>\n",
       "      <th>3</th>\n",
       "      <td>*</td>\n",
       "      <td>0163</td>\n",
       "      <td>1</td>\n",
       "      <td>1.22</td>\n",
       "      <td>2023-09-10</td>\n",
       "      <td>13.49</td>\n",
       "      <td>324</td>\n",
       "      <td>NaN</td>\n",
       "      <td>NaN</td>\n",
       "      <td>0.36</td>\n",
       "      <td>...</td>\n",
       "      <td>1.48</td>\n",
       "      <td>0.11</td>\n",
       "      <td>0.09</td>\n",
       "      <td>2</td>\n",
       "      <td>0</td>\n",
       "      <td>1</td>\n",
       "      <td>Simbad</td>\n",
       "      <td>288.06759</td>\n",
       "      <td>42.35534</td>\n",
       "      <td>4</td>\n",
       "    </tr>\n",
       "    <tr>\n",
       "      <th>4</th>\n",
       "      <td>*</td>\n",
       "      <td>0165</td>\n",
       "      <td>1</td>\n",
       "      <td>0.28</td>\n",
       "      <td>2023-09-25</td>\n",
       "      <td>13.90</td>\n",
       "      <td>257</td>\n",
       "      <td>NaN</td>\n",
       "      <td>NaN</td>\n",
       "      <td>NaN</td>\n",
       "      <td>...</td>\n",
       "      <td>2.07</td>\n",
       "      <td>0.18</td>\n",
       "      <td>0.17</td>\n",
       "      <td>2</td>\n",
       "      <td>0</td>\n",
       "      <td>1</td>\n",
       "      <td>Simbad</td>\n",
       "      <td>292.48693</td>\n",
       "      <td>46.19620</td>\n",
       "      <td>5</td>\n",
       "    </tr>\n",
       "  </tbody>\n",
       "</table>\n",
       "<p>5 rows × 53 columns</p>\n",
       "</div>"
      ],
      "text/plain": [
       "  NIRC2   KOI  Np   Sep     _tab1_5   rmag   SNR  dmi  e_dmi  dmLP600  ...  \\\n",
       "0     *  0042   1  1.66  2022-07-13   9.33  2095  NaN    NaN     3.04  ...   \n",
       "1     *  0112   2  0.11  2023-09-24  12.74   521  NaN    NaN      NaN  ...   \n",
       "2     *  0162   1  0.29  2022-10-21  13.77   297  NaN    NaN     0.81  ...   \n",
       "3     *  0163   1  1.22  2023-09-10  13.49   324  NaN    NaN     0.36  ...   \n",
       "4     *  0165   1  0.28  2023-09-25  13.90   257  NaN    NaN      NaN  ...   \n",
       "\n",
       "   fcorr-s  E_fcorr-s  e_fcorr-s  Source  K16  F17  Simbad        _RA  \\\n",
       "0     2.01       0.10       0.09       1    1    1  Simbad  283.15067   \n",
       "1     1.67       0.29       0.21       2    1    1  Simbad  295.64868   \n",
       "2     1.42       0.26       0.20       2    0    1  Simbad  295.16377   \n",
       "3     1.48       0.11       0.09       2    0    1  Simbad  288.06759   \n",
       "4     2.07       0.18       0.17       2    0    1  Simbad  292.48693   \n",
       "\n",
       "        _DE  recno  \n",
       "0  45.13982      1  \n",
       "1  48.49555      2  \n",
       "2  43.96305      3  \n",
       "3  42.35534      4  \n",
       "4  46.19620      5  \n",
       "\n",
       "[5 rows x 53 columns]"
      ]
     },
     "execution_count": 10,
     "metadata": {},
     "output_type": "execute_result"
    }
   ],
   "source": [
    "print(\"Length of stars: \", len(stars), \" (This is the number of stars/planetary SYSTEMS in the binary sample)\")\n",
    "print(\"Confirm total number of planets: \", sum(stars['Np']), \" (This is the sum of the number of planets column)\")\n",
    "stars.head()"
   ]
  },
  {
   "cell_type": "code",
   "execution_count": 11,
   "id": "a5aaae68",
   "metadata": {},
   "outputs": [],
   "source": [
    "# massage the KOI names\n",
    "\n",
    "koi = planets['KOIpl'].astype(float)\n",
    "\n",
    "scaled = (koi * 100).round().astype(int)            # e.g. 4201 for 42.01\n",
    "whole = (scaled // 100).astype(str).str.zfill(5)    # zero-pad whole part to 5 digits\n",
    "frac2 = (scaled % 100).astype(str).str.zfill(2)     # two-digit fractional part\n",
    "\n",
    "planets['kepoi_name'] = 'K' + whole + '.' + frac2"
   ]
  },
  {
   "cell_type": "code",
   "execution_count": 12,
   "id": "a6c00d9b",
   "metadata": {},
   "outputs": [
    {
     "name": "stdout",
     "output_type": "stream",
     "text": [
      "Length of planets after merging sullivan+stars:  404\n"
     ]
    },
    {
     "data": {
      "text/html": [
       "<div>\n",
       "<style scoped>\n",
       "    .dataframe tbody tr th:only-of-type {\n",
       "        vertical-align: middle;\n",
       "    }\n",
       "\n",
       "    .dataframe tbody tr th {\n",
       "        vertical-align: top;\n",
       "    }\n",
       "\n",
       "    .dataframe thead th {\n",
       "        text-align: right;\n",
       "    }\n",
       "</style>\n",
       "<table border=\"1\" class=\"dataframe\">\n",
       "  <thead>\n",
       "    <tr style=\"text-align: right;\">\n",
       "      <th></th>\n",
       "      <th>KOIpl</th>\n",
       "      <th>KOI</th>\n",
       "      <th>kepoi_name</th>\n",
       "    </tr>\n",
       "  </thead>\n",
       "  <tbody>\n",
       "    <tr>\n",
       "      <th>0</th>\n",
       "      <td>42.009998</td>\n",
       "      <td>42</td>\n",
       "      <td>K00042.01</td>\n",
       "    </tr>\n",
       "    <tr>\n",
       "      <th>1</th>\n",
       "      <td>112.010002</td>\n",
       "      <td>112</td>\n",
       "      <td>K00112.01</td>\n",
       "    </tr>\n",
       "    <tr>\n",
       "      <th>2</th>\n",
       "      <td>112.019997</td>\n",
       "      <td>112</td>\n",
       "      <td>K00112.02</td>\n",
       "    </tr>\n",
       "    <tr>\n",
       "      <th>3</th>\n",
       "      <td>162.009995</td>\n",
       "      <td>162</td>\n",
       "      <td>K00162.01</td>\n",
       "    </tr>\n",
       "    <tr>\n",
       "      <th>4</th>\n",
       "      <td>163.009995</td>\n",
       "      <td>163</td>\n",
       "      <td>K00163.01</td>\n",
       "    </tr>\n",
       "  </tbody>\n",
       "</table>\n",
       "</div>"
      ],
      "text/plain": [
       "        KOIpl  KOI kepoi_name\n",
       "0   42.009998   42  K00042.01\n",
       "1  112.010002  112  K00112.01\n",
       "2  112.019997  112  K00112.02\n",
       "3  162.009995  162  K00162.01\n",
       "4  163.009995  163  K00163.01"
      ]
     },
     "execution_count": 12,
     "metadata": {},
     "output_type": "execute_result"
    }
   ],
   "source": [
    "print(\"Length of planets after merging sullivan+stars: \", len(planets))\n",
    "planets[['KOIpl','KOI','kepoi_name']].head()"
   ]
  },
  {
   "cell_type": "markdown",
   "id": "72e9dd08",
   "metadata": {},
   "source": [
    "### Getting distances by any means necessary for Sullivan sample\n",
    "\n",
    "Most of these are wide enough that Gaia has totally fine parallaxes. Some are too close. Kendall got distance estimates for these (not published, but given to me in the derived_star table) that I'll use when I have to.\n",
    "\n",
    "Start with just cross-matching to the KOIs+Gaia list I just created."
   ]
  },
  {
   "cell_type": "code",
   "execution_count": 13,
   "id": "aa7a7516",
   "metadata": {},
   "outputs": [
    {
     "name": "stdout",
     "output_type": "stream",
     "text": [
      "In the Sullivan sample, we have missing number of parallaxes:  42\n"
     ]
    }
   ],
   "source": [
    "# read in the file I created above\n",
    "with open('kois+gaia.pkl', 'rb') as file:\n",
    "       kgx = pickle.load(file)\n",
    "    \n",
    "# merging Kendall's catalog with KOIs+gaia match\n",
    "s24_x_gaia = planets.merge(kgx, how='left', on=['kepoi_name','KOI'])\n",
    "\n",
    "# doing distance calculation\n",
    "s24_x_gaia['distance'] = 1000./s24_x_gaia['parallax']\n",
    "\n",
    "print(\"In the Sullivan sample, we have missing number of parallaxes: \", sum(s24_x_gaia['parallax'].isnull()))"
   ]
  },
  {
   "cell_type": "markdown",
   "id": "bd2b0af2",
   "metadata": {},
   "source": [
    "The rest should have distances here"
   ]
  },
  {
   "cell_type": "code",
   "execution_count": 14,
   "id": "89e61f43",
   "metadata": {},
   "outputs": [],
   "source": [
    "extra = pd.read_csv(open('derived_star.tex', 'r'), sep='&')\n",
    "extra['KOI'] = extra['sname'].astype('int64')\n",
    "\n",
    "#s24_x_gaia.merge(extra, how='left', )"
   ]
  },
  {
   "cell_type": "code",
   "execution_count": 15,
   "id": "be24fa2a",
   "metadata": {},
   "outputs": [],
   "source": [
    "binary_db = s24_x_gaia.merge(extra, how='left', on='KOI', suffixes=['','_extra'])\n"
   ]
  },
  {
   "cell_type": "code",
   "execution_count": 16,
   "id": "63dd0a9c",
   "metadata": {},
   "outputs": [
    {
     "name": "stdout",
     "output_type": "stream",
     "text": [
      "Parallax= 1.0, with a relative error of 5.0%\n",
      "Distances vary between  834.9 and 1294.6  pc\n",
      "Formal distance:  1000.0 +/- 50.0  pc\n",
      "Mean distance:  1002.0 +/- 50.0  pc\n",
      "Median of distance distribution:  1000.0  pc\n",
      "Mode of distance distribution:  1004.0  pc\n"
     ]
    },
    {
     "data": {
      "image/png": "[encoded data removed]",
      "text/plain": [
       "<Figure size 432x288 with 1 Axes>"
      ]
     },
     "metadata": {
      "needs_background": "light"
     },
     "output_type": "display_data"
    }
   ],
   "source": [
    "# borrowed from https://www.eso.org/~hboffin/Teaching/gaia_plx-2.html\n",
    "\n",
    "def plotdis(rel_err):\n",
    "    plx = 1. # in mas; this value doesn't really matter, so we can keep as such\n",
    "    print(f'Parallax= {plx}, with a relative error of {rel_err}%')\n",
    "    \n",
    "    error_plx = rel_err / 100. * plx\n",
    "    test_par= np.random.normal(plx,error_plx,100000)   # Compute a distribution of parallaxes\n",
    "    test_dis = 1000./test_par                          # Distances is 1000 / parallax in pc\n",
    "    test_dis = test_dis [test_dis > 0.]                # Remove the non-physical negative distances\n",
    "\n",
    "    #print the miminum and maximum distances \n",
    "    print (\"Distances vary between \",np.round(test_dis.min(),1),\"and\",np.round(test_dis.max(),1),\" pc\")\n",
    "\n",
    "    # Compare to a Gaussian distribution of distances, centred on 1/plx \n",
    "    # and with an error given by  \n",
    "    # error_dis = error_plx / plx**2. \n",
    "    dis = 1./plx\n",
    "    error_dis = error_plx *dis**2. \n",
    "    \n",
    "    # this is in kpc, so multiply by 1000.\n",
    "    dis, error_dis = 1000.*dis, 1000.*error_dis\n",
    "    \n",
    "    xdis = np.linspace(-3.*error_dis,3.*error_dis,100)\n",
    "    ydis= np.exp(-0.5*(xdis/error_dis)**2)\n",
    "    \n",
    "    \n",
    "    #Compute the histogramme of distances\n",
    "    bin0 = np.percentile(test_dis,.1)\n",
    "    bin1 = np.percentile(test_dis,99.9)\n",
    "    if rel_err > 20:\n",
    "        bin0 = 0.\n",
    "        bin1 = 3000./plx\n",
    "    \n",
    "    z, bin = np.histogram(test_dis,bins=100,range=(bin0,bin1)) #dis-3.*error_dis,dis+5.*error_dis))\n",
    "    mo = bin[np.argmax(z)]   # compute the maximum of the histogram, i.e. the mode\n",
    "    plt.vlines(mo,0,z.max(),color='yellow',label='Mode') \n",
    "    med = np.percentile(test_dis,50)   # the median value\n",
    "    plt.vlines(med,0,z.max(),color='magenta',label='Median')\n",
    "    \n",
    "    ydis = ydis * z.max()\n",
    "    plt.plot(xdis+dis,ydis, label='Formal Gaussian')\n",
    "    \n",
    "    plt.hist(test_dis,bins=bin,label='Distribution')\n",
    "    print(\"Formal distance: \",np.round(dis,0),\"+/-\",error_dis,\" pc\")\n",
    "    print(\"Mean distance: \",np.round(np.mean(test_dis),0),\"+/-\",np.round(test_dis.std(),0),\" pc\")\n",
    "    print (\"Median of distance distribution: \",np.round(med,0),\" pc\")\n",
    "    print (\"Mode of distance distribution: \",np.round(mo,0),\" pc\")\n",
    "    \n",
    "    plt.xlim(bin0,bin1)\n",
    "    plt.title(f'Distribution of distances with plx={plx} and error={rel_err}%')\n",
    "    plt.legend();\n",
    "    #print('------------------------------------------')\n",
    "\n",
    "relative_error_plx = 1./20. * 100.  # in percents\n",
    "plotdis(relative_error_plx)"
   ]
  },
  {
   "cell_type": "code",
   "execution_count": 17,
   "id": "2f95e6ca",
   "metadata": {},
   "outputs": [
    {
     "data": {
      "text/plain": [
       "<matplotlib.colorbar.Colorbar at 0x7f9e9585fbe0>"
      ]
     },
     "execution_count": 17,
     "metadata": {},
     "output_type": "execute_result"
    },
    {
     "data": {
      "image/png": "[encoded data removed]",
      "text/plain": [
       "<Figure size 432x288 with 2 Axes>"
      ]
     },
     "metadata": {
      "needs_background": "light"
     },
     "output_type": "display_data"
    }
   ],
   "source": [
    "plt.scatter(binary_db['distance'], binary_db['distance_extra'], c='gray', label='All stars')\n",
    "plt.scatter(binary_db['distance'][binary_db['parallax_over_error']<20], \n",
    "            binary_db['distance_extra'][binary_db['parallax_over_error']<20],\n",
    "           c='r', label=\">5% error\")\n",
    "plt.xscale('log')\n",
    "plt.yscale('log')\n",
    "plt.xlabel('Distance from 1/parallax (pc)')\n",
    "plt.ylabel('Sullivan distance (pc)')\n",
    "plt.legend()\n",
    "plt.colorbar()"
   ]
  },
  {
   "cell_type": "code",
   "execution_count": 18,
   "id": "7e0cdb40",
   "metadata": {},
   "outputs": [],
   "source": [
    "# replace where parallax error > 5% or not available at all!\n",
    "replace = (binary_db['parallax_over_error'] < 20) | (~np.isfinite(binary_db['distance']))\n",
    "binary_db.loc[replace, 'distance'] = binary_db['distance_extra'][replace]\n",
    "\n",
    "binary_db['SepAU'] = binary_db['distance']*binary_db['Sep']\n",
    "\n",
    "binary_db.to_pickle('kendall+kepler.pkl')"
   ]
  },
  {
   "cell_type": "markdown",
   "id": "808b9162",
   "metadata": {},
   "source": [
    "# Assessing the compiled catalogs\n",
    "\n",
    "Making sure things look right"
   ]
  },
  {
   "cell_type": "markdown",
   "id": "d076c207",
   "metadata": {},
   "source": [
    "### Make my catalogs"
   ]
  },
  {
   "cell_type": "code",
   "execution_count": 19,
   "id": "bd742f5f",
   "metadata": {},
   "outputs": [],
   "source": [
    "# read in Kendall's catalog, xmatched to all the stuff from Kepler that I need\n",
    "with open('kendall+kepler.pkl', 'rb') as file:\n",
    "       db = pickle.load(file)\n",
    "\n",
    "# read in my kois table\n",
    "with open('kois+gaia.pkl', 'rb') as file:\n",
    "        kois = pd.read_pickle(file)\n",
    "\n",
    "# remove the studied binaries from the all_KOI catalog\n",
    "# also remove false positives\n",
    "# and non-positive parallaxes\n",
    "kois_less = kois[ (~kois['kepoi_name'].isin(db['kepoi_name'])) & \n",
    "                 (kois['koi_disposition']!='FALSE POSITIVE') & \n",
    "                 (kois['parallax']>0)]"
   ]
  },
  {
   "cell_type": "markdown",
   "id": "343d371a",
   "metadata": {},
   "source": [
    "### Radius distribution of all KOIs (less the binaries)"
   ]
  },
  {
   "cell_type": "code",
   "execution_count": 20,
   "id": "641b61d1",
   "metadata": {},
   "outputs": [
    {
     "data": {
      "image/png": "[encoded data removed]",
      "text/plain": [
       "<Figure size 432x144 with 1 Axes>"
      ]
     },
     "metadata": {
      "needs_background": "light"
     },
     "output_type": "display_data"
    }
   ],
   "source": [
    "\n",
    "kgood = (kois_less['koi_prad_err1']/kois_less['koi_prad'] < 0.05) & \\\n",
    "    (kois_less['koi_prad_err2']/kois_less['koi_prad'] < 0.05) & \\\n",
    "    (kois_less['koi_period'] < 100) \n",
    "plt.figure(figsize=(6,2))\n",
    "plt.hist(kois_less['koi_prad'][kgood], range=[0.2,4], bins=20, histtype='step')\n",
    "plt.xlabel('Rp (Earth radius)')\n",
    "plt.ylabel('No. planets')\n",
    "plt.show()"
   ]
  },
  {
   "cell_type": "code",
   "execution_count": 21,
   "id": "88c279c0",
   "metadata": {},
   "outputs": [
    {
     "data": {
      "text/plain": [
       "Text(0, 0.5, 'Rp (Earth rad)')"
      ]
     },
     "execution_count": 21,
     "metadata": {},
     "output_type": "execute_result"
    },
    {
     "data": {
      "image/png": "[encoded data removed]",
      "text/plain": [
       "<Figure size 432x288 with 1 Axes>"
      ]
     },
     "metadata": {
      "needs_background": "light"
     },
     "output_type": "display_data"
    }
   ],
   "source": [
    "# trying to confirm this is right... \n",
    "# seems good, prob a bit dif b/c using different planet param database\n",
    "\n",
    "\n",
    "good = (db['e_Rpkep']/db['Rpkep'] < 0.15) & (db['koi_period']<100)\n",
    "close = db['SepAU']<100\n",
    "\n",
    "plt.scatter(db['SepAU'][good], db['Rpkep'][good])\n",
    "plt.scatter(db['SepAU'][good & close], db['Rpkep'][good & close])\n",
    "plt.ylim(0.4,4.1)\n",
    "plt.xlim(3, 4000)\n",
    "plt.xscale('log')\n",
    "plt.xlabel('Binary sep (AU)')\n",
    "plt.ylabel('Rp (Earth rad)')"
   ]
  },
  {
   "cell_type": "code",
   "execution_count": 22,
   "id": "72e9adc8",
   "metadata": {},
   "outputs": [
    {
     "data": {
      "image/png": "[encoded data removed]",
      "text/plain": [
       "<Figure size 432x144 with 1 Axes>"
      ]
     },
     "metadata": {
      "needs_background": "light"
     },
     "output_type": "display_data"
    },
    {
     "data": {
      "image/png": "[encoded data removed]",
      "text/plain": [
       "<Figure size 432x144 with 1 Axes>"
      ]
     },
     "metadata": {
      "needs_background": "light"
     },
     "output_type": "display_data"
    }
   ],
   "source": [
    "#kendall assumes they orbit primary stars which is prob mostly true based on nathanael's work?\n",
    "\n",
    "# planets with good radii in binary systems with rho<100 au and planet period < 100 days\n",
    "plt.figure(figsize=(6,2))\n",
    "plt.hist(db['Rppri'][good & close], range=[0.2,4], bins=20, \n",
    "         density=True, histtype='step',\n",
    "        label='Close binaries')\n",
    "\n",
    "# compared to the kois that are at least not definite binaries with good radii and per<100 days\n",
    "plt.hist(kois_less['koi_prad'][kgood], range=[0.2,4], bins=20, \n",
    "         density=True, histtype='step',\n",
    "        label='Single stars')\n",
    "\n",
    "plt.legend()\n",
    "plt.xlabel('Rp')\n",
    "plt.ylabel('Density')\n",
    "plt.show()\n",
    "\n",
    "plt.figure(figsize=(6,2))\n",
    "plt.hist(db['Rppri'][good & ~close], range=[0.2,4], bins=20, \n",
    "         density=True, histtype='step',\n",
    "        label='Wide binaries')\n",
    "plt.hist(kois_less['koi_prad'][kgood], range=[0.2,4], bins=20, \n",
    "         density=True, histtype='step',\n",
    "        label='Single stars')\n",
    "\n",
    "plt.legend()\n",
    "plt.xlabel('Rp')\n",
    "plt.ylabel('Density')\n",
    "plt.show()\n"
   ]
  },
  {
   "cell_type": "code",
   "execution_count": null,
   "id": "fd2fa197",
   "metadata": {},
   "outputs": [],
   "source": []
  }
 ],
 "metadata": {
  "kernelspec": {
   "display_name": "Python 3 (ipykernel)",
   "language": "python",
   "name": "python3"
  },
  "language_info": {
   "codemirror_mode": {
    "name": "ipython",
    "version": 3
   },
   "file_extension": ".py",
   "mimetype": "text/x-python",
   "name": "python",
   "nbconvert_exporter": "python",
   "pygments_lexer": "ipython3",
   "version": "3.8.12"
  }
 },
 "nbformat": 4,
 "nbformat_minor": 5
}
