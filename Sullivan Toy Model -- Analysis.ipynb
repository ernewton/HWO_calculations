{
 "cells": [
  {
   "cell_type": "markdown",
   "id": "c0dd42ce",
   "metadata": {},
   "source": [
    "# Binary Planet Suppression: Toy Model"
   ]
  },
  {
   "cell_type": "code",
   "execution_count": 1,
   "id": "4ca93d64",
   "metadata": {},
   "outputs": [],
   "source": [
    "from astropy.table import Table\n",
    "import matplotlib.pyplot as plt\n",
    "import numpy as np\n",
    "import matplotlib as mpl\n",
    "\n",
    "mpl.rc('lines',linewidth = 1.5)\n",
    "mpl.rc('font',size = 12)\n",
    "mpl.rc('axes',labelsize = 14, linewidth=1.25)\n",
    "mpl.rc('xtick',labelsize = 14)\n",
    "mpl.rc('ytick',labelsize = 14)\n",
    "# enable math fonts\n",
    "mpl.rc('mathtext', default = 'regular')\n",
    "\n",
    "import pickle\n",
    "\n",
    "import pandas as pd"
   ]
  },
  {
   "cell_type": "code",
   "execution_count": 2,
   "id": "534e5a52",
   "metadata": {},
   "outputs": [],
   "source": [
    "# define the radius valley\n",
    "rad_valley = 1.7"
   ]
  },
  {
   "cell_type": "markdown",
   "id": "69c3058f",
   "metadata": {},
   "source": [
    "### Data from Sullivan, Gaia/Bedell, KOIs, KIC"
   ]
  },
  {
   "cell_type": "code",
   "execution_count": 3,
   "id": "bd742f5f",
   "metadata": {},
   "outputs": [],
   "source": [
    "# read in Kendall's catalog, xmatched to all the stuff from Kepler that I need\n",
    "with open('kendall+kepler.pkl', 'rb') as file:\n",
    "       db = pickle.load(file)\n",
    "\n",
    "# read in my kois table\n",
    "with open('kois+gaia.pkl', 'rb') as file:\n",
    "        kois = pd.read_pickle(file)\n",
    "\n",
    "# remove the studied binaries from the all_KOI catalog\n",
    "kois_less = kois[ (~kois['kepoi_name'].isin(db['kepoi_name'])) & \\\n",
    "                 (kois['koi_disposition']=='CONFIRMED')]\n",
    "                 #(kois['koi_disposition']!='FALSE POSITIVE')]\n"
   ]
  },
  {
   "cell_type": "markdown",
   "id": "6261ffd8",
   "metadata": {},
   "source": [
    "### CKS Sample"
   ]
  },
  {
   "cell_type": "code",
   "execution_count": 4,
   "id": "5403dc38",
   "metadata": {},
   "outputs": [
    {
     "name": "stderr",
     "output_type": "stream",
     "text": [
      "WARNING: UnitsWarning: Unit 'x' not supported by the VOUnit standard.  [astropy.units.format.vounit]\n"
     ]
    }
   ],
   "source": [
    "tmp = Table.read('fulton2018.vot')\n",
    "cks = tmp.to_pandas()\n",
    "cks['kepoi_name'] = cks['KOI']\n",
    "cks['KOI'] = cks['kepoi_name'].str.extract(r'K0*(\\d+)\\.\\d+')[0].astype(int)\n"
   ]
  },
  {
   "cell_type": "markdown",
   "id": "02c17343",
   "metadata": {},
   "source": [
    "### Optional limit on periods"
   ]
  },
  {
   "cell_type": "code",
   "execution_count": 5,
   "id": "378b5eb4",
   "metadata": {},
   "outputs": [],
   "source": [
    "period_limit = False\n",
    "\n",
    "if period_limit:\n",
    "    \n",
    "    plim = (db['koi_period'] > 5) & (db['koi_period'] < 30)\n",
    "    kplim = (kois_less['koi_period'] > 5) & (kois_less['koi_period'] < 30)\n",
    "    cksplim = (cks['Per'] > 5) & (cks['Per'] < 30)\n",
    "    \n",
    "else:\n",
    "    \n",
    "    plim = np.ones(len(db), dtype=bool)\n",
    "    kplim = np.ones(len(kois_less), dtype=bool)\n",
    "    cksplim = np.ones(len(cks), dtype=bool)\n",
    "\n"
   ]
  },
  {
   "cell_type": "markdown",
   "id": "ad129ceb",
   "metadata": {},
   "source": [
    "### Define subsamples"
   ]
  },
  {
   "cell_type": "code",
   "execution_count": 6,
   "id": "c6ba085b",
   "metadata": {},
   "outputs": [
    {
     "name": "stdout",
     "output_type": "stream",
     "text": [
      "Binaries frac super-Earths:  0.6714285714285714\n"
     ]
    }
   ],
   "source": [
    "good = (db['e_Rpkep']/db['Rpkep'] < 0.15) & (db['koi_period']<100) & plim\n",
    "close = db['SepAU']<100\n",
    "\n",
    "# also remove false positives\n",
    "# and \"bad\" parallaxes\n",
    "\n",
    "kois_good = kois_less[(kois_less['koi_prad_err1']/kois_less['koi_prad'] < 0.15) & \\\n",
    "    (kois_less['koi_prad_err2']/kois_less['koi_prad'] < 0.15) & \\\n",
    "    (kois_less['koi_period'] < 100) & kplim]\n",
    "\n",
    "\n",
    "cks_good = cks[(cks['Per'] < 100) & (cks['E_Rp']/cks['Rp'] < 0.15) & (cks['e_Rp']/cks['Rp'] < 0.15) & cksplim]\n",
    "\n",
    "\n",
    "n_close = len(db['Rppri'][good & close])\n",
    "n_super_earths_close = len(db['Rppri'][good & close & plim & (db['Rppri']<rad_valley)])\n",
    "print(\"Binaries frac super-Earths: \", float(n_super_earths_close)/float(n_close))"
   ]
  },
  {
   "cell_type": "markdown",
   "id": "0243c32c",
   "metadata": {},
   "source": [
    "# Toy Model\n",
    "\n",
    "next up I take the kois_less (kois with good params minus any that are binaries in kendall's list) and pretend every single star is actually a binary star with a separation drawn randomly from Kendall's sample's distribution of separations. Suppress the formation of > 2 Rearth planets using the suppression model and remake the histogram. Does it work?"
   ]
  },
  {
   "cell_type": "code",
   "execution_count": 7,
   "id": "edb604ff",
   "metadata": {},
   "outputs": [],
   "source": [
    "\n",
    "def suppression_factor(a_values):\n",
    "    a_inner_true = 10  # AU (suppression 100%)\n",
    "    a_outer_true = 200  # AU (suppression 0%)\n",
    "    results = (np.log10(a_values) - np.log10(a_inner_true)) / (np.log10(a_outer_true) - np.log10(a_inner_true))\n",
    "    return np.clip(results, a_min=0, a_max=1)"
   ]
  },
  {
   "cell_type": "code",
   "execution_count": 8,
   "id": "0a60aaa8",
   "metadata": {},
   "outputs": [],
   "source": [
    "\n",
    "def planet_simulation(suppression_cat, planets_cat, join_on='kepid', prad_col='koi_prad'):\n",
    "\n",
    "    # Number of STARS in single KOIs catalog (not planets)\n",
    "    n_stars = len(suppression_cat)\n",
    "    n_planets = len(planets_cat)\n",
    "\n",
    "    # Randomly draw separations from db[close] for each star\n",
    "    random_separations = np.random.choice(db[close]['SepAU'], size=n_stars, replace=True)\n",
    "\n",
    "    # Suppress planet formation (per STAR)\n",
    "    suppression_cat['my_factor'] = suppression_factor(random_separations)\n",
    "\n",
    "    # Match STAR suppression to each PLANET\n",
    "    realization = planets_cat.merge(suppression_cat, on=join_on)\n",
    "    print(len(realization), n_planets)\n",
    "    realization['planet_exists'] = np.zeros(n_planets, dtype=bool) \n",
    "\n",
    "    # Condition 1: If Rp < 1.8, planet formation is not suppressed\n",
    "    realization.loc[realization[prad_col] < rad_valley, 'planet_exists'] = True\n",
    "\n",
    "    # Condition 2: If Rp >= 1.8, planet formation probabilistically suppressed\n",
    "    mask = (realization[prad_col] >= rad_valley)\n",
    "\n",
    "    random_vals = np.random.rand(n_planets)  # uniform random [0,1) to compare to my_factor\n",
    "    realization.loc[mask, 'planet_exists'] = random_vals[mask] < realization['my_factor'][mask]\n",
    "\n",
    "    planet_radius = realization.loc[realization['planet_exists'] == 1, prad_col].to_numpy()\n",
    "    n_super_earths = len(planet_radius[planet_radius < rad_valley])\n",
    "    print(\"Frac super-Earths: \", float(n_super_earths)/float(len(planet_radius)))\n",
    "    return(planet_radius)\n",
    "\n"
   ]
  },
  {
   "cell_type": "markdown",
   "id": "9d71775b",
   "metadata": {},
   "source": [
    "### Suppress the KOI sample"
   ]
  },
  {
   "cell_type": "code",
   "execution_count": 9,
   "id": "1e14e76f",
   "metadata": {},
   "outputs": [
    {
     "name": "stdout",
     "output_type": "stream",
     "text": [
      "1088 1088\n",
      "Frac super-Earths:  0.5597826086956522\n"
     ]
    }
   ],
   "source": [
    "# Holder for the random separations for the STARS\n",
    "d = {'kepid': kois_good['kepid'].unique()}\n",
    "suppression_cat = pd.DataFrame(data=d)\n",
    "\n",
    "koi_prad_sim = planet_simulation(suppression_cat, kois_good, join_on='kepid', prad_col='koi_prad')\n"
   ]
  },
  {
   "cell_type": "markdown",
   "id": "3e0b668b",
   "metadata": {},
   "source": [
    "### Suppress the CKS sample"
   ]
  },
  {
   "cell_type": "code",
   "execution_count": 10,
   "id": "4f65bd7c",
   "metadata": {},
   "outputs": [
    {
     "name": "stdout",
     "output_type": "stream",
     "text": [
      "1594 1594\n",
      "Frac super-Earths:  0.606244579358196\n"
     ]
    }
   ],
   "source": [
    "# Holder for the random separations for the STARS\n",
    "d = {'KOI': cks_good['KOI'].unique()}\n",
    "suppression_cat = pd.DataFrame(data=d)\n",
    "\n",
    "cks_prad_sim = planet_simulation(suppression_cat, cks_good, join_on='KOI', prad_col='Rp')"
   ]
  },
  {
   "cell_type": "raw",
   "id": "820db337",
   "metadata": {},
   "source": [
    "plt.hist(db[close]['SepAU'])\n",
    "plt.hist(random_separations[mask])\n",
    "plt.hist(random_separations[mask][planet_exists[mask]])"
   ]
  },
  {
   "cell_type": "code",
   "execution_count": 11,
   "id": "8e29cab8",
   "metadata": {},
   "outputs": [
    {
     "data": {
      "image/png": "[encoded data removed]",
      "text/plain": [
       "<Figure size 504x432 with 2 Axes>"
      ]
     },
     "metadata": {
      "needs_background": "light"
     },
     "output_type": "display_data"
    }
   ],
   "source": [
    "\n",
    "    \n",
    "\n",
    "fig, axes = plt.subplots(2, 1, figsize=(7,6), sharex=True, sharey=True)\n",
    "histrange=[0.5,3.5]\n",
    "nbins=15\n",
    "\n",
    "# planets with good radii in binary systems with rho<100 au and planet period < 100 days\n",
    "axes[0].hist(db['Rppri'][good & close & plim], \n",
    "             range=histrange, bins=nbins, density=True, \n",
    "         histtype='stepfilled', color='lightblue',\n",
    "        label='Close binaries')\n",
    "axes[1].hist(db['Rppri'][good & close & plim], \n",
    "             range=histrange, bins=nbins, density=True, \n",
    "             histtype='stepfilled', color='lightblue' )\n",
    "\n",
    "# compared to the kois that are at least not definite binaries with good radii and per<100 days\n",
    "axes[0].hist(kois_good['koi_prad'], \n",
    "             range=histrange, bins=nbins, density=True, \n",
    "             histtype='step', lw=2,\n",
    "        label='Confirmed Kepler')\n",
    "\n",
    "# compared to the cks\n",
    "axes[0].hist(cks_good['Rp'], \n",
    "             range=histrange, bins=nbins, density=True, \n",
    "             histtype='step',lw=2, linestyle='--', \n",
    "        label='CKS Sample')\n",
    "\n",
    "axes[0].set_ylabel('Density')\n",
    "axes[0].legend()\n",
    "\n",
    "if period_limit:\n",
    "    axes[0].text(0.1,0.95, '$5<P_P(d)<30$')\n",
    "\n",
    "# planets with good radii in binary systems with rho<100 au and planet period < 100 days\n",
    "axes[1].hist(db['Rppri'][good & close & plim], \n",
    "             range=histrange, bins=nbins, density=True, \n",
    "             histtype='stepfilled', color='lightblue' )\n",
    "axes[1].hist(db['Rppri'][good & close & plim], \n",
    "             range=histrange, bins=nbins, density=True, \n",
    "             histtype='step', color='#8aacb8')\n",
    "\n",
    "\n",
    "# compared to the kois that exist in simulation still\n",
    "axes[1].hist(koi_prad_sim, \n",
    "             range=histrange, bins=nbins, density=True, \n",
    "             histtype='step', lw=2) \n",
    "\n",
    "axes[1].hist(cks_prad_sim, \n",
    "             range=histrange, bins=nbins, density=True, \n",
    "             histtype='step', lw=2, linestyle='--')\n",
    "\n",
    "axes[1].text(0.98, 0.95, 'Kepler & CKS:\\n $R_P$>1.7 suppressed ',\n",
    "     horizontalalignment='right',\n",
    "     verticalalignment='top',\n",
    "     transform = axes[1].transAxes)\n",
    "    \n",
    "plt.xlabel('Rp')\n",
    "plt.ylabel('Density')\n",
    "plt.tight_layout()\n",
    "plt.savefig('suppression_sim.pdf')"
   ]
  },
  {
   "cell_type": "code",
   "execution_count": null,
   "id": "abd12036",
   "metadata": {},
   "outputs": [],
   "source": []
  },
  {
   "cell_type": "code",
   "execution_count": null,
   "id": "fe0e22a1",
   "metadata": {},
   "outputs": [],
   "source": []
  },
  {
   "cell_type": "code",
   "execution_count": null,
   "id": "836eb62c",
   "metadata": {},
   "outputs": [],
   "source": []
  }
 ],
 "metadata": {
  "kernelspec": {
   "display_name": "Python 3 (ipykernel)",
   "language": "python",
   "name": "python3"
  },
  "language_info": {
   "codemirror_mode": {
    "name": "ipython",
    "version": 3
   },
   "file_extension": ".py",
   "mimetype": "text/x-python",
   "name": "python",
   "nbconvert_exporter": "python",
   "pygments_lexer": "ipython3",
   "version": "3.8.5"
  }
 },
 "nbformat": 4,
 "nbformat_minor": 5
}
